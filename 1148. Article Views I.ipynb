{
 "cells": [
  {
   "cell_type": "markdown",
   "metadata": {},
   "source": [
    "# 目標：找到至少有看過一次自己文章的作者id，返回他們的id並升冪排序。\n",
    "```python \n",
    "+---------------+---------+\n",
    "| Column Name   | Type    |\n",
    "+---------------+---------+\n",
    "| article_id    | int     |\n",
    "| author_id     | int     |\n",
    "| viewer_id     | int     |\n",
    "| view_date     | date    |\n",
    "+---------------+---------+\n",
    "```"
   ]
  },
  {
   "cell_type": "markdown",
   "metadata": {},
   "source": [
    "##### sql\n",
    "```sql\n",
    "select distinct author_id\n",
    "from views\n",
    "where author_id = viewer_id\n",
    "order by author_id\n",
    "```"
   ]
  },
  {
   "cell_type": "markdown",
   "metadata": {},
   "source": [
    "**解題思路**\n",
    "\n",
    "只要計算author_id和viewer_id有相等的行數，再去重，就知道有哪些，再返回他們的author_id就好？\n",
    "但我不知道對應的pandas有什麼語法可以使用。"
   ]
  },
  {
   "cell_type": "code",
   "execution_count": null,
   "metadata": {},
   "outputs": [],
   "source": [
    "# 寫法和解說\n",
    "\n",
    "import pandas as pd\n",
    "\n",
    "def article_views(views: pd.DataFrame) -> pd.DataFrame:\n",
    "    auther_read = views.query(\"author_id == viewer_id\") # query():用字符串寫條件\n",
    "    uni_ids = auther_read[\"author_id\"].unique() # unique()去重 # 記得這裡是 series，記得後面轉回df\n",
    "    uni_ids = sorted(uni_ids) # sorted()不會改變原本的內容\n",
    "    return pd.DataFrame({\"id\":uni_ids}) # 轉換為df格式\n"
   ]
  }
 ],
 "metadata": {
  "kernelspec": {
   "display_name": "Python 3.9.6 64-bit",
   "language": "python",
   "name": "python3"
  },
  "language_info": {
   "codemirror_mode": {
    "name": "ipython",
    "version": 3
   },
   "file_extension": ".py",
   "mimetype": "text/x-python",
   "name": "python",
   "nbconvert_exporter": "python",
   "pygments_lexer": "ipython3",
   "version": "3.9.6"
  },
  "orig_nbformat": 4,
  "vscode": {
   "interpreter": {
    "hash": "31f2aee4e71d21fbe5cf8b01ff0e069b9275f58929596ceb00d14d90e3e16cd6"
   }
  }
 },
 "nbformat": 4,
 "nbformat_minor": 2
}
