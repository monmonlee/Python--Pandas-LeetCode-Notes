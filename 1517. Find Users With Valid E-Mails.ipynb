{
 "cells": [
  {
   "cell_type": "markdown",
   "metadata": {},
   "source": [
    "```python\n",
    "+---------------+---------+\n",
    "| Column Name   | Type    |\n",
    "+---------------+---------+\n",
    "| user_id       | int     |\n",
    "| name          | varchar |\n",
    "| mail          | varchar |\n",
    "+---------------+---------+\n",
    "user_id is the primary key (column with unique values) for this table.\n",
    "This table contains information of the users signed up in a website. Some e-mails are invalid.\n",
    "```\n",
    "Write a solution to find the users who have valid emails.\n",
    "\n",
    "A valid e-mail has a prefix name and a domain where:\n",
    "\n",
    "The prefix name is a string that may contain letters (upper or lower case), digits, underscore '_', period '.', and/or dash '-'. The prefix name must start with a letter.\n",
    "The domain is '@leetcode.com'.\n",
    "Return the result table in any order.\n",
    "\n",
    "The result format is in the following example.\n",
    "\n",
    "\n",
    "\n",
    "題目理解：\n",
    "有些用戶的信箱是無效的\n",
    "目標就是找到有效的信箱的行\n",
    "有效信箱的條件：\n",
    "一、包含或不包含underscore '_', period '.', and/or dash '-'. \n",
    "二、第一個字不能是標點符號 → 用正規\n",
    "三、'@leetcode.com'.結尾 → 用正規 \n",
    "推理：\n",
    "一、要用到「字串搜尋」\n",
    "二、並且透過正規排除我們不要的\n",
    "三、返回我們要的行"
   ]
  },
  {
   "cell_type": "code",
   "execution_count": null,
   "metadata": {},
   "outputs": [],
   "source": [
    "# 正解\n",
    "import pandas as pd\n",
    "\n",
    "def valid_emails(users: pd.DataFrame) -> pd.DataFrame:\n",
    "    vaild_users = users[users['mail'].str.contains(\"^[a-zA-Z][a-zA-Z0-9_.-]*@leetcode\\.com$\", regex=True)]\n",
    "    return vaild_users"
   ]
  },
  {
   "cell_type": "markdown",
   "metadata": {},
   "source": [
    "# 分隔線"
   ]
  },
  {
   "cell_type": "code",
   "execution_count": 1,
   "metadata": {},
   "outputs": [
    {
     "data": {
      "text/html": [
       "<div>\n",
       "<style scoped>\n",
       "    .dataframe tbody tr th:only-of-type {\n",
       "        vertical-align: middle;\n",
       "    }\n",
       "\n",
       "    .dataframe tbody tr th {\n",
       "        vertical-align: top;\n",
       "    }\n",
       "\n",
       "    .dataframe thead th {\n",
       "        text-align: right;\n",
       "    }\n",
       "</style>\n",
       "<table border=\"1\" class=\"dataframe\">\n",
       "  <thead>\n",
       "    <tr style=\"text-align: right;\">\n",
       "      <th></th>\n",
       "      <th>user_id</th>\n",
       "      <th>name</th>\n",
       "      <th>mail</th>\n",
       "    </tr>\n",
       "  </thead>\n",
       "  <tbody>\n",
       "    <tr>\n",
       "      <th>0</th>\n",
       "      <td>1</td>\n",
       "      <td>Winston</td>\n",
       "      <td>winston@leetcode.com</td>\n",
       "    </tr>\n",
       "    <tr>\n",
       "      <th>1</th>\n",
       "      <td>2</td>\n",
       "      <td>Jonathan</td>\n",
       "      <td>jonathanisgreat</td>\n",
       "    </tr>\n",
       "    <tr>\n",
       "      <th>2</th>\n",
       "      <td>3</td>\n",
       "      <td>Annabelle</td>\n",
       "      <td>bella-@leetcode.com</td>\n",
       "    </tr>\n",
       "  </tbody>\n",
       "</table>\n",
       "</div>"
      ],
      "text/plain": [
       "   user_id       name                  mail\n",
       "0        1    Winston  winston@leetcode.com\n",
       "1        2   Jonathan       jonathanisgreat\n",
       "2        3  Annabelle   bella-@leetcode.com"
      ]
     },
     "execution_count": 1,
     "metadata": {},
     "output_type": "execute_result"
    }
   ],
   "source": [
    "# 測試\n",
    "import pandas as pd\n",
    "df = pd.DataFrame(\n",
    "    {\"user_id\":[1,2,3],\n",
    "    \"name\":[\"Winston\", \"Jonathan\", \"Annabelle\"],\n",
    "    \"mail\":[\"winston@leetcode.com\", \"jonathanisgreat\", \"bella-@leetcode.com\"]}\n",
    ")\n",
    "df"
   ]
  },
  {
   "cell_type": "code",
   "execution_count": 12,
   "metadata": {},
   "outputs": [
    {
     "data": {
      "text/plain": [
       "0     True\n",
       "1    False\n",
       "2     True\n",
       "Name: vaild, dtype: bool"
      ]
     },
     "execution_count": 12,
     "metadata": {},
     "output_type": "execute_result"
    }
   ],
   "source": [
    "# 找出某字串條件的\n",
    "df_test = df['mail'].str.contains(\"^[a-zA-Z][a-zA-Z0-9_.-]+@leetcode\\.com$\", regex=True)\n",
    "df_test\n",
    "# 可以發現這樣只有布林遮罩，所以要進一步把遮罩套到真實狀況"
   ]
  },
  {
   "cell_type": "code",
   "execution_count": null,
   "metadata": {},
   "outputs": [],
   "source": [
    "# 返回的兩種方法\n",
    "# 一、一行做完\n",
    "results = df[df['mail'].str.contains(\"^[a-zA-Z][a-zA-Z0-9-_.]*@leetcode\\.com$\", regex=True)]\n",
    "# 二、兩行包起來\n",
    "df_test = df['mail'].str.contains(\"^[a-zA-Z][a-zA-Z0-9_.-]+@leetcode\\.com$\", regex=True)\n",
    "results = df[df_test] #pandas會自動保留true的行、刪除false的行"
   ]
  },
  {
   "cell_type": "markdown",
   "metadata": {},
   "source": [
    "# 練習區和進階區"
   ]
  },
  {
   "cell_type": "markdown",
   "metadata": {},
   "source": [
    "筆記：常見的正規表達\n",
    "- []：代表一個字符\n",
    "- ^：指定開頭（放最前面）\n",
    "- $：指定結果（放最後面）\n",
    "- .：任意字元（例如he..o，就是中間兩個字符隨意）\n",
    "- [a-z]：小寫字母\n",
    "- [A-Z]：大寫字母\n",
    "- [a-zA-Z]：大、小寫字母都可\n",
    "- [0-9]：數字\n",
    "- [-./]：特殊標點符號\n",
    "- [a-zA-Z0-9-./]：可以大小寫、數字或指定標點符號\n",
    "- *：0 or 任意次數的字符（修飾前者）\n",
    "- +：至少一次出現該字符（修飾前者）\n",
    "- \\.：真正的點，因為.在正規中有特殊意義,要加\\跳脫)\n"
   ]
  },
  {
   "cell_type": "markdown",
   "metadata": {},
   "source": [
    "筆記：如果想要指定次數如何處理？\n",
    "- {n}: 剛好n次\n",
    "- {n, }:至少n次\n",
    "- {n, m}:至少n次，最多m次\n",
    "- 示範：中間至少有三個字符：`^[a-z][a-zA-z0-9]{3}@leetcode\\.com$`"
   ]
  },
  {
   "cell_type": "markdown",
   "metadata": {},
   "source": [
    "筆記：找到對應字串的語法\n",
    "\n",
    "`str.contains(\"字串\", regex = True/False)`\n",
    "\n",
    "- 參數regex：前面的字串是否為正則\n",
    "- 返回布林遮罩：記得要返回結果時，有兩種方法(其實是同一種)：\n",
    "    - results = df[mask]\n",
    "    - results = df[df[].str.contains()]"
   ]
  },
  {
   "cell_type": "code",
   "execution_count": null,
   "metadata": {},
   "outputs": [],
   "source": [
    "# 練習：\n",
    "# 手機號碼: 09 開頭 + 剛好8個數字\n",
    "\"^09[0-9]{8}\" # 錯誤，因為沒有“＄”，這樣變成只管到前面的數字，後面無限\n",
    "    #正確答案\n",
    "\"^09[0-9]{8}$\"\n",
    "# 學號: 1個英文字母 + 剛好9個數字\n",
    "\"^[a-zA-Z][0-9]{9}\" # 一樣的錯誤\n",
    "\"^[a-zA-Z][0-9]{9}$\"\n",
    "# 密碼: 至少8個字元,包含字母和數字\n",
    "\"[a-zA-Z0-9]{8,}$\" # 這樣是不限制字母和數字是否要\n",
    "# 如果一定要包含字母＆數字，答案如下(太複雜不學也沒關係)：\n",
    "\"^(?=.*[a-zA-Z])(?=.*[0-9])[a-zA-Z0-9]{8,}$\""
   ]
  },
  {
   "cell_type": "markdown",
   "metadata": {},
   "source": [
    "\n"
   ]
  }
 ],
 "metadata": {
  "kernelspec": {
   "display_name": "Python 3.9.6 64-bit",
   "language": "python",
   "name": "python3"
  },
  "language_info": {
   "codemirror_mode": {
    "name": "ipython",
    "version": 3
   },
   "file_extension": ".py",
   "mimetype": "text/x-python",
   "name": "python",
   "nbconvert_exporter": "python",
   "pygments_lexer": "ipython3",
   "version": "3.9.6"
  },
  "orig_nbformat": 4,
  "vscode": {
   "interpreter": {
    "hash": "31f2aee4e71d21fbe5cf8b01ff0e069b9275f58929596ceb00d14d90e3e16cd6"
   }
  }
 },
 "nbformat": 4,
 "nbformat_minor": 2
}
