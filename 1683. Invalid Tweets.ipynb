{
 "cells": [
  {
   "cell_type": "markdown",
   "metadata": {},
   "source": [
    "1683. Invalid Tweets\n",
    "```python\n",
    "+----------------+---------+\n",
    "| Column Name    | Type    |\n",
    "+----------------+---------+\n",
    "| tweet_id       | int     |\n",
    "| content        | varchar |\n",
    "+----------------+---------+\n",
    "tweet_id is the primary key (column with unique values) for this table.\n",
    "content consists of alphanumeric characters, '!', or ' ' and no other special characters.\n",
    "This table contains all the tweets in a social media app.\n",
    "```\n",
    "Write a solution to find the IDs of the invalid tweets. The tweet is invalid if the number of characters used in the content of the tweet is strictly greater than 15.\n",
    "\n",
    "Return the result table in any order."
   ]
  },
  {
   "cell_type": "code",
   "execution_count": null,
   "metadata": {},
   "outputs": [],
   "source": [
    "# 1683. Invalid Tweets\n",
    "# 題目要求：找到字符超過15的內容並返回id\n",
    "# 問題點：空格和驚嘆號有要算字符嗎？應該算吧？\n",
    "import pandas as pd\n",
    "def invaid_tweets():\n",
    "    result = tweets[tweets[\"content\"].str.len() > 15]\n",
    "    return result[['tweet_id']]"
   ]
  },
  {
   "cell_type": "markdown",
   "metadata": {},
   "source": [
    "**筆記**\n",
    "- 查詢字串長度語法：`df['a'].str.len()`且會返回dataframe\n",
    "- 檢索方式：`.query()`&`df[df['a'].str.len() > 15]`\n",
    "    - 兩者都是用來「查詢」，但是`.query()`不能接字串處理，只能處理基本運算，所以如果要使用，只能輔助欄位再用，相對麻煩\n",
    "    ```python\n",
    "    df['len'] = df['content'].str.len()\n",
    "    result = df.query(\"len > 15\")\n",
    "    ```\n",
    "    - 用布林索引是最快的\n",
    "- 記得返回是dataframe，要變成df[[\"column\"]]"
   ]
  }
 ],
 "metadata": {
  "kernelspec": {
   "display_name": "Python 3.9.6 64-bit",
   "language": "python",
   "name": "python3"
  },
  "language_info": {
   "codemirror_mode": {
    "name": "ipython",
    "version": 3
   },
   "file_extension": ".py",
   "mimetype": "text/x-python",
   "name": "python",
   "nbconvert_exporter": "python",
   "pygments_lexer": "ipython3",
   "version": "3.9.6"
  },
  "orig_nbformat": 4,
  "vscode": {
   "interpreter": {
    "hash": "31f2aee4e71d21fbe5cf8b01ff0e069b9275f58929596ceb00d14d90e3e16cd6"
   }
  }
 },
 "nbformat": 4,
 "nbformat_minor": 2
}
