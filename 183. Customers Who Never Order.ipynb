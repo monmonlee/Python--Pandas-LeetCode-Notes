{
 "cells": [
  {
   "cell_type": "markdown",
   "metadata": {},
   "source": [
    "# 目標：有顧客清單和訂單，要找到從來沒有買過的顧客名稱\n",
    "```python\n",
    "table:customers\n",
    "+-------------+---------+\n",
    "| Column Name | Type    |\n",
    "+-------------+---------+\n",
    "| id          | int     |\n",
    "| name        | varchar |\n",
    "+-------------+---------+\n",
    "\n",
    "Table: Orders\n",
    "+-------------+------+\n",
    "| Column Name | Type |\n",
    "+-------------+------+\n",
    "| id          | int  |\n",
    "| customerId  | int  |\n",
    "+-------------+------+\n",
    "\n",
    "```\n",
    "\n",
    "\n",
    "\n",
    "```sql\n",
    "select a.name\n",
    "from Customers a\n",
    "left join Orders b\n",
    "on a.id = b.customerId\n",
    "where b.customerId is null\n",
    "````"
   ]
  },
  {
   "cell_type": "code",
   "execution_count": null,
   "metadata": {},
   "outputs": [],
   "source": [
    "# 第一種作法：merge()\n",
    "import pandas as pd\n",
    "def find_customers(customers: pd.DataFrame, orders: pd.DataFrame) -> pd.DataFrame:\n",
    "    merged = customers.merge(\n",
    "        orders, \n",
    "        left_on = \"id\",\n",
    "        right_on = \"customerId\",\n",
    "        how = \"left\"\n",
    "    )\n",
    "\n",
    "    no_orders = merged[merged[\"customerId\"].isna()]\n",
    "\n",
    "    return no_orders[['name']].rename(columns={\"name\":\"Customers\"})"
   ]
  },
  {
   "cell_type": "code",
   "execution_count": null,
   "metadata": {},
   "outputs": [],
   "source": [
    "# 第二種作法：isin()\n",
    "import pandas as pd\n",
    "\n",
    "def find_customers(customers: pd.DataFrame, orders: pd.DataFrame) -> pd.DataFrame:\n",
    "    \n",
    "    customers_with_orders = orders['customerId'].unique() # 去重找到唯一值的id\n",
    "\n",
    "    no_orders = customers[~customers[\"id\"].isin(customers_with_orders)] # id在order表裏（剛剛的customers_with_orders）但not in customers[\"id\"]\n",
    "\n",
    "    return no_orders[[\"name\"]].rename(columns={\"name\": \"Customers\"})"
   ]
  },
  {
   "cell_type": "code",
   "execution_count": null,
   "metadata": {},
   "outputs": [],
   "source": [
    "# 第三種作法：set差集\n",
    "\n",
    "import pandas as pd\n",
    "\n",
    "def find_customers(customers: pd.DataFrame, orders: pd.DataFrame) -> pd.DataFrame:\n",
    "    # 先將兩者重點轉換為set\n",
    "    all_customers = set(customers[\"id\"])\n",
    "    customers_with_orders = set(orders[\"customerId\"])\n",
    "\n",
    "    # 找出差集(那customers_without_orders是什麼？也是一個set嗎？)\n",
    "    customers_without_orders =  all_customers - customers_with_orders # 找出沒有進到訂單系統的id?但這還是一個集合\n",
    "\n",
    "    result = customers[customers[\"id\"].isin(customers_without_orders)] # 萃取出customers裡面剛剛找到沒有的id的資料\n",
    "\n",
    "    return result[[\"name\"]].rename(columns={\"name\": \"Customers\"})"
   ]
  }
 ],
 "metadata": {
  "kernelspec": {
   "display_name": "Python 3.9.6 64-bit",
   "language": "python",
   "name": "python3"
  },
  "language_info": {
   "codemirror_mode": {
    "name": "ipython",
    "version": 3
   },
   "file_extension": ".py",
   "mimetype": "text/x-python",
   "name": "python",
   "nbconvert_exporter": "python",
   "pygments_lexer": "ipython3",
   "version": "3.9.6"
  },
  "orig_nbformat": 4,
  "vscode": {
   "interpreter": {
    "hash": "31f2aee4e71d21fbe5cf8b01ff0e069b9275f58929596ceb00d14d90e3e16cd6"
   }
  }
 },
 "nbformat": 4,
 "nbformat_minor": 2
}
