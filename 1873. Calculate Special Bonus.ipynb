{
 "cells": [
  {
   "cell_type": "markdown",
   "metadata": {},
   "source": [
    "```python\n",
    "+-------------+---------+\n",
    "| Column Name | Type    |\n",
    "+-------------+---------+\n",
    "| employee_id | int     |\n",
    "| name        | varchar |\n",
    "| salary      | int     |\n",
    "+-------------+---------+\n",
    "employee_id is the primary key (column with unique values) for this table.\n",
    "Each row of this table indicates the employee ID, employee name, and salary.\n",
    "```\n",
    "Write a solution to calculate the bonus of each employee. The bonus of an employee is 100% of their salary if the ID of the employee is an odd number and the employee's name does not start with the character 'M'. The bonus of an employee is 0 otherwise.\n",
    "\n",
    "Return the result table ordered by employee_id.\n"
   ]
  },
  {
   "cell_type": "markdown",
   "metadata": {},
   "source": [
    "目的：新增一個欄位bouns，如果id是奇數且名字開頭不是m，返回它們的薪水，其餘都是0。\n",
    "\n",
    "bigquery version:\n",
    "\n",
    "```sql\n",
    "select employee_id, \n",
    "case when employee_id % 2 = 1 and not regexp_contains(name, \"^M\") then salary\n",
    "else  0\n",
    "end as bonus\n",
    "from employees\n",
    "order by employee_id\n",
    "```\n",
    "\n",
    "mysql version:\n",
    "\n",
    "```sql\n",
    "select employee_id, \n",
    "case when employee_id % 2 = 1 and name not like \"M%\" then salary\n",
    "else  0\n",
    "end as bonus\n",
    "from employees\n",
    "order by employee_id;\n",
    "```\n",
    "\n",
    "clearer version:\n",
    "\n",
    "```sql\n",
    "select employee_id, \n",
    "case when mod(employee_id, 2) = 1 and left(name, 1) != 'M' then salary\n",
    "else  0\n",
    "end as bonus\n",
    "from employees\n",
    "order by employee_id;\n",
    "```"
   ]
  },
  {
   "cell_type": "code",
   "execution_count": null,
   "metadata": {},
   "outputs": [],
   "source": [
    "# python 正解\n",
    "# 你需要什麼？\n",
    "# if-else 處理0或返回薪水\n",
    "# 排序結果 \n",
    "import pandas as pd\n",
    "import numpy as np\n",
    "'''\n",
    "np.where(條件, 如果true, 如果false)\n",
    "\n",
    "'''\n",
    "def calculate_special_bonus(employees: pd.DataFrame) -> pd.DataFrame:\n",
    "    employees['bonus'] = np.where(\n",
    "        (employees['employee_id'] % 2 == 1) & (~ employees[\"name\"].str.startswith('M') ),\n",
    "        employees['salary'],\n",
    "        0\n",
    "    )\n",
    "    return employees[[\"employee_id\", \"bonus\"]].sort_values('employee_id')"
   ]
  },
  {
   "cell_type": "markdown",
   "metadata": {},
   "source": [
    "**語法小教室**\n",
    "- `np.where()`\n",
    "    np.where(\n",
    "        條件,\n",
    "        如果true,\n",
    "        如果false\n",
    "    )\n",
    "    - 如果有多種條件，需要巢狀 → 不如使用`.loc[]`最常見\n",
    "    - `.loc[]`\n",
    "        ```python\n",
    "            df['lable'] = None\n",
    "            df.loc[df['name']].str.contains(\"amy\", case = False), 'label'] = 'a'\n",
    "            df.loc[df['name']].str.contains(\"ben\", case = False), 'label'] = 'b'            \n",
    "            df.loc[df['name']].str.contains(\"cathy\", case = False), 'label'] = 'c'        \n",
    "        ```\n",
    "    - `np.where()`和`.query()`差別\n",
    "        - `np.where()`：分類、找出某些不同條件並標記、或是提供新的值 → 使用之後會新增欄位（分類結果）\n",
    "        - `.query()`：篩選出來而已，沒有辦法使用`.str()`，需要額外賦值 → 使用之後會行數變少（篩掉一些欄位）\n",
    "- `.str.startswith()`:\n",
    "    - 可以改成`.str.contains(\"^M\")`，但如果只是要找開頭或結尾，用`.str.startswith()`比較清楚\n",
    "    - 其他家族：\n",
    "        - `.str.endswith()`:結尾\n",
    "        - `.str.upper()` & `.str.lower()`:大寫＆小寫\n",
    "        - `.str.len()`: 長度\n",
    "        - `.str.contains()`:包含某某字、適合搭配正規     \n",
    "\n"
   ]
  },
  {
   "cell_type": "markdown",
   "metadata": {},
   "source": [
    "草稿區"
   ]
  },
  {
   "cell_type": "code",
   "execution_count": 2,
   "metadata": {},
   "outputs": [
    {
     "data": {
      "text/html": [
       "<div>\n",
       "<style scoped>\n",
       "    .dataframe tbody tr th:only-of-type {\n",
       "        vertical-align: middle;\n",
       "    }\n",
       "\n",
       "    .dataframe tbody tr th {\n",
       "        vertical-align: top;\n",
       "    }\n",
       "\n",
       "    .dataframe thead th {\n",
       "        text-align: right;\n",
       "    }\n",
       "</style>\n",
       "<table border=\"1\" class=\"dataframe\">\n",
       "  <thead>\n",
       "    <tr style=\"text-align: right;\">\n",
       "      <th></th>\n",
       "      <th>id</th>\n",
       "      <th>name</th>\n",
       "      <th>salary</th>\n",
       "    </tr>\n",
       "  </thead>\n",
       "  <tbody>\n",
       "    <tr>\n",
       "      <th>0</th>\n",
       "      <td>2</td>\n",
       "      <td>Meir</td>\n",
       "      <td>3000</td>\n",
       "    </tr>\n",
       "    <tr>\n",
       "      <th>1</th>\n",
       "      <td>3</td>\n",
       "      <td>Michael</td>\n",
       "      <td>3800</td>\n",
       "    </tr>\n",
       "    <tr>\n",
       "      <th>2</th>\n",
       "      <td>7</td>\n",
       "      <td>Addilyn</td>\n",
       "      <td>7400</td>\n",
       "    </tr>\n",
       "    <tr>\n",
       "      <th>3</th>\n",
       "      <td>8</td>\n",
       "      <td>Juan</td>\n",
       "      <td>6100</td>\n",
       "    </tr>\n",
       "  </tbody>\n",
       "</table>\n",
       "</div>"
      ],
      "text/plain": [
       "   id     name  salary\n",
       "0   2     Meir    3000\n",
       "1   3  Michael    3800\n",
       "2   7  Addilyn    7400\n",
       "3   8     Juan    6100"
      ]
     },
     "execution_count": 2,
     "metadata": {},
     "output_type": "execute_result"
    }
   ],
   "source": [
    "import pandas as pd\n",
    "df = pd.DataFrame(\n",
    "    {\"id\":[2,3,7,8],\n",
    "    \"name\":[\"Meir\", \"Michael\", \"Addilyn\", \"Juan\"],\n",
    "    \"salary\":[3000, 3800, 7400, 6100]\n",
    "    }\n",
    ")\n",
    "df\n"
   ]
  },
  {
   "cell_type": "code",
   "execution_count": 9,
   "metadata": {},
   "outputs": [],
   "source": [
    "df_2 = df[df['id']% 2 == 1]\n",
    "# 我需要建立一個新欄位bouns\n",
    "df['donus'] = df[df['id']% 2 == 1 ]['id']\n"
   ]
  },
  {
   "cell_type": "code",
   "execution_count": 10,
   "metadata": {},
   "outputs": [
    {
     "data": {
      "text/plain": [
       "0    NaN\n",
       "1    3.0\n",
       "2    7.0\n",
       "3    NaN\n",
       "Name: donus, dtype: float64"
      ]
     },
     "execution_count": 10,
     "metadata": {},
     "output_type": "execute_result"
    }
   ],
   "source": [
    "df['donus'] "
   ]
  },
  {
   "cell_type": "markdown",
   "metadata": {},
   "source": [
    "我現在又有個小麻煩，雖然我寫得出sql，可是我又不知道pandas如何寫了\n",
    "\n",
    "我的邏輯是這樣的：\n",
    "我們需要一個新欄位bouns來裝我們條件下的新情況，因此就會對應到sql裡面的case when\n",
    "另外，如果要排序，需要用到排序結果 \n",
    "\n",
    "但我的問題是，我知道一般時候我們可以用is-else來建立條件，\n",
    "例如：\n",
    "if df['id']% 2 == 1 and df['name'] 開頭不包含'M':\n",
    "    df[\"bouns\"] = df['salary']\n",
    "else:\n",
    "    df[\"bouns\"] = 0\n",
    "\n",
    "可是我不知道pandas要如何條件應用到df上，再來我也不知道「開頭是Ｍ」該如何展示\n",
    "我只會 df_2 = df[df['id']% 2 == 1]\n"
   ]
  },
  {
   "cell_type": "code",
   "execution_count": null,
   "metadata": {},
   "outputs": [],
   "source": []
  }
 ],
 "metadata": {
  "kernelspec": {
   "display_name": "Python 3.9.6 64-bit",
   "language": "python",
   "name": "python3"
  },
  "language_info": {
   "codemirror_mode": {
    "name": "ipython",
    "version": 3
   },
   "file_extension": ".py",
   "mimetype": "text/x-python",
   "name": "python",
   "nbconvert_exporter": "python",
   "pygments_lexer": "ipython3",
   "version": "3.9.6"
  },
  "orig_nbformat": 4,
  "vscode": {
   "interpreter": {
    "hash": "31f2aee4e71d21fbe5cf8b01ff0e069b9275f58929596ceb00d14d90e3e16cd6"
   }
  }
 },
 "nbformat": 4,
 "nbformat_minor": 2
}
